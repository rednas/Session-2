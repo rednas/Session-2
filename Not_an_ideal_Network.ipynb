{
  "nbformat": 4,
  "nbformat_minor": 0,
  "metadata": {
    "colab": {
      "name": "Not an ideal Network",
      "version": "0.3.2",
      "provenance": [],
      "collapsed_sections": []
    },
    "kernelspec": {
      "name": "python3",
      "display_name": "Python 3"
    },
    "accelerator": "GPU"
  },
  "cells": [
    {
      "cell_type": "code",
      "metadata": {
        "id": "9pGg5Xjsp_ll",
        "colab_type": "code",
        "outputId": "a4a01b99-2db4-43e1-a8e2-ec3107c01b2b",
        "colab": {
          "base_uri": "https://localhost:8080/",
          "height": 35
        }
      },
      "source": [
        "# https://keras.io/\n",
        "\n",
        "#Statement start with \"!\" is a command in Colab.\n",
        "#The following command will quitly install keras python module from python packaging index\n",
        "#After installing keras, it is being imported\n",
        "\n",
        "!pip install -q keras\n",
        "import keras"
      ],
      "execution_count": 2,
      "outputs": [
        {
          "output_type": "stream",
          "text": [
            "Using TensorFlow backend.\n"
          ],
          "name": "stderr"
        }
      ]
    },
    {
      "cell_type": "code",
      "metadata": {
        "id": "_9X__4-nqJZR",
        "colab_type": "code",
        "colab": {}
      },
      "source": [
        "#numpy is imported with \"np\" as kind of alias. \n",
        "#From here on we can use np instead of numpy.\n",
        "import numpy as np\n",
        "\n",
        "#The following would import relevant models and layer. \n",
        "#Also, we have imported the mnist data set.\n",
        "\n",
        "from keras.models import Sequential\n",
        "from keras.layers import Flatten\n",
        "from keras.layers import Convolution2D\n",
        "from keras.utils import np_utils\n",
        "\n",
        "from keras.datasets import mnist"
      ],
      "execution_count": 0,
      "outputs": []
    },
    {
      "cell_type": "code",
      "metadata": {
        "id": "PvrtcjeUqW0S",
        "colab_type": "code",
        "outputId": "d792c306-7df0-4c08-e54b-6c6beae32ed7",
        "colab": {
          "base_uri": "https://localhost:8080/",
          "height": 52
        }
      },
      "source": [
        "# Load MNIST data set into training data and test set data\n",
        "# There are 70,000 images with their labels in MNIST dataset.\n",
        "# Randomly, 60k will be loaded into X_train and their corresponding labels y_train.\n",
        "# Remaining 10k images will be loaded into X_test and their labels y_test.\n",
        "\n",
        "(X_train, y_train), (X_test, y_test) = mnist.load_data()"
      ],
      "execution_count": 5,
      "outputs": [
        {
          "output_type": "stream",
          "text": [
            "Downloading data from https://s3.amazonaws.com/img-datasets/mnist.npz\n",
            "11493376/11490434 [==============================] - 0s 0us/step\n"
          ],
          "name": "stdout"
        }
      ]
    },
    {
      "cell_type": "code",
      "metadata": {
        "id": "ptvxmKYKqYTZ",
        "colab_type": "code",
        "outputId": "43a4ccfd-b6e1-433b-e518-c1875c26950c",
        "colab": {
          "base_uri": "https://localhost:8080/",
          "height": 304
        }
      },
      "source": [
        "\n",
        "#Printing the shape of Training data set\n",
        "#From this print statement, there are 60,000 images in X train of size 28X28.\n",
        "#Correspoindingly, y_train is a column matrics of size 60000\n",
        "print (X_train.shape)\n",
        "\n",
        "# Using plt.imshow method from matplot library, the first image is printed. y[0] will be have a value of 5.\n",
        "from matplotlib import pyplot as plt\n",
        "%matplotlib inline\n",
        "plt.imshow(X_train[0])"
      ],
      "execution_count": 7,
      "outputs": [
        {
          "output_type": "stream",
          "text": [
            "(60000, 28, 28)\n"
          ],
          "name": "stdout"
        },
        {
          "output_type": "execute_result",
          "data": {
            "text/plain": [
              "<matplotlib.image.AxesImage at 0x7fab345ea860>"
            ]
          },
          "metadata": {
            "tags": []
          },
          "execution_count": 7
        },
        {
          "output_type": "display_data",
          "data": {
            "image/png": "[encoded data removed]",
            "text/plain": [
              "<Figure size 432x288 with 1 Axes>"
            ]
          },
          "metadata": {
            "tags": []
          }
        }
      ]
    },
    {
      "cell_type": "code",
      "metadata": {
        "id": "HSBos9Ydqbrk",
        "colab_type": "code",
        "colab": {}
      },
      "source": [
        "#Convert the images in training dataset and test set into multidimentional arrays of their pixel intensity values.\n",
        "X_train = X_train.reshape(X_train.shape[0], 28, 28,1)\n",
        "X_test = X_test.reshape(X_test.shape[0], 28, 28,1)\n"
      ],
      "execution_count": 0,
      "outputs": []
    },
    {
      "cell_type": "code",
      "metadata": {
        "id": "nG3__R2iqfd3",
        "colab_type": "code",
        "colab": {}
      },
      "source": [
        "#Convert the pixel intensity values into floating point value and normalize the pixel intensities by dividing with 255. Max value of pixel intensity is 255.\n",
        "X_train = X_train.astype('float32')\n",
        "X_test = X_test.astype('float32')\n",
        "X_train /= 255\n",
        "X_test /= 255"
      ],
      "execution_count": 0,
      "outputs": []
    },
    {
      "cell_type": "code",
      "metadata": {
        "id": "aRtSDtZ-qkPJ",
        "colab_type": "code",
        "outputId": "edb15691-8633-40fd-f43b-240c4fa9d98d",
        "colab": {
          "base_uri": "https://localhost:8080/",
          "height": 35
        }
      },
      "source": [
        "#Print the first 10 labels in the y_train column matrics.\n",
        "\n",
        "y_train[:10]"
      ],
      "execution_count": 11,
      "outputs": [
        {
          "output_type": "execute_result",
          "data": {
            "text/plain": [
              "array([5, 0, 4, 1, 9, 2, 1, 3, 1, 4], dtype=uint8)"
            ]
          },
          "metadata": {
            "tags": []
          },
          "execution_count": 11
        }
      ]
    },
    {
      "cell_type": "code",
      "metadata": {
        "id": "6ZEoUoleqoIF",
        "colab_type": "code",
        "colab": {}
      },
      "source": [
        "# Convert 1-dimensional class arrays to 10-dimensional class matrices\n",
        "\n",
        "# This will convert the numbers in the Y_train and y_test into column metrics of size 10. Element corresponding to the number will have value 1 and all other elements will be 0.\n",
        "# For example, 5 will be represented by the column matrics [0,0,0,0,1,0,0,0,0,0]\n",
        "\n",
        "Y_train = np_utils.to_categorical(y_train, 10)\n",
        "Y_test = np_utils.to_categorical(y_test, 10)"
      ],
      "execution_count": 0,
      "outputs": []
    },
    {
      "cell_type": "code",
      "metadata": {
        "id": "7wAWcvn4qtAa",
        "colab_type": "code",
        "outputId": "2d675e57-db6f-406e-e162-385f7da6e802",
        "colab": {
          "base_uri": "https://localhost:8080/",
          "height": 195
        }
      },
      "source": [
        "#Print first 10 elements in the Y_train after converting into catogorical matrices.\n",
        "\n",
        "Y_train[:10]"
      ],
      "execution_count": 13,
      "outputs": [
        {
          "output_type": "execute_result",
          "data": {
            "text/plain": [
              "array([[0., 0., 0., 0., 0., 1., 0., 0., 0., 0.],\n",
              "       [1., 0., 0., 0., 0., 0., 0., 0., 0., 0.],\n",
              "       [0., 0., 0., 0., 1., 0., 0., 0., 0., 0.],\n",
              "       [0., 1., 0., 0., 0., 0., 0., 0., 0., 0.],\n",
              "       [0., 0., 0., 0., 0., 0., 0., 0., 0., 1.],\n",
              "       [0., 0., 1., 0., 0., 0., 0., 0., 0., 0.],\n",
              "       [0., 1., 0., 0., 0., 0., 0., 0., 0., 0.],\n",
              "       [0., 0., 0., 1., 0., 0., 0., 0., 0., 0.],\n",
              "       [0., 1., 0., 0., 0., 0., 0., 0., 0., 0.],\n",
              "       [0., 0., 0., 0., 1., 0., 0., 0., 0., 0.]], dtype=float32)"
            ]
          },
          "metadata": {
            "tags": []
          },
          "execution_count": 13
        }
      ]
    },
    {
      "cell_type": "code",
      "metadata": {
        "id": "vRbQ5g7sqxae",
        "colab_type": "code",
        "colab": {
          "base_uri": "https://localhost:8080/",
          "height": 890
        },
        "outputId": "a5853d87-be0c-4287-cc77-9d1a85b6a589"
      },
      "source": [
        "from keras.layers import Activation, MaxPooling2D\n",
        "\n",
        "model = Sequential() \n",
        "model.add(Convolution2D(32, 3, 3, activation='relu', input_shape=(28,28,1))) # Receptive Field is 3, Channel Dimention : (3x3X1)x(32), output image dimention 26X26\n",
        "model.add(Convolution2D(64, 3, 3, activation='relu'))                        # Receptive Field is 5, Channel Dimention : (3x3X32)x(64), output image dimention 24X24\n",
        "model.add(Convolution2D(128, 3, 3, activation='relu'))                       # Receptive Field is 7, Channel Dimention : (3x3X64)x(128), output image dimention 22X22\n",
        "\n",
        "model.add(MaxPooling2D(pool_size=(2, 2)))                                    # Receptive Field is 7, Channel Dimention : (3x3)x(128), output image dimention 11X11\n",
        "\n",
        "model.add(Convolution2D(256, 3, 3, activation='relu'))                       # Receptive Field is 9, Channel Dimention : (3x3X128)x(256), output image dimention 9X9\n",
        "model.add(Convolution2D(512, 3, 3, activation='relu'))                       # Receptive Field is 11, Channel Dimention : (3x3X256)x(512), output image dimention 7X7\n",
        "model.add(Convolution2D(1024, 3, 3, activation='relu'))                      # Receptive Field is 13, Channel Dimention : (3x3X512)x(1024), output image dimention 5X5\n",
        "model.add(Convolution2D(2048, 3, 3, activation='relu'))                      # Receptive Field is 15, Channel Dimention : (3x3X1024)x(2048), output image dimention 3X3\n",
        "model.add(Convolution2D(10, 3, 3, activation='relu'))                        # Receptive Field is 17, Channel Dimention : (3x3X2048)x(10), output image dimention 1X1\n",
        "\n",
        "model.add(Flatten())                                                         # Receptive Field is 17, Channel Dimention : (3x3)x(10), output image dimention 1X1\n",
        "model.add(Activation('softmax'))                                             # Receptive Field is 17, Channel Dimention : (3x3)x(10), output image dimention 1X1\n",
        "\n",
        "model.summary()"
      ],
      "execution_count": 14,
      "outputs": [
        {
          "output_type": "stream",
          "text": [
            "WARNING:tensorflow:From /usr/local/lib/python3.6/dist-packages/tensorflow/python/framework/op_def_library.py:263: colocate_with (from tensorflow.python.framework.ops) is deprecated and will be removed in a future version.\n",
            "Instructions for updating:\n",
            "Colocations handled automatically by placer.\n"
          ],
          "name": "stdout"
        },
        {
          "output_type": "stream",
          "text": [
            "/usr/local/lib/python3.6/dist-packages/ipykernel_launcher.py:4: UserWarning: Update your `Conv2D` call to the Keras 2 API: `Conv2D(32, (3, 3), activation=\"relu\", input_shape=(28, 28, 1...)`\n",
            "  after removing the cwd from sys.path.\n",
            "/usr/local/lib/python3.6/dist-packages/ipykernel_launcher.py:5: UserWarning: Update your `Conv2D` call to the Keras 2 API: `Conv2D(64, (3, 3), activation=\"relu\")`\n",
            "  \"\"\"\n",
            "/usr/local/lib/python3.6/dist-packages/ipykernel_launcher.py:6: UserWarning: Update your `Conv2D` call to the Keras 2 API: `Conv2D(128, (3, 3), activation=\"relu\")`\n",
            "  \n",
            "/usr/local/lib/python3.6/dist-packages/ipykernel_launcher.py:10: UserWarning: Update your `Conv2D` call to the Keras 2 API: `Conv2D(256, (3, 3), activation=\"relu\")`\n",
            "  # Remove the CWD from sys.path while we load stuff.\n",
            "/usr/local/lib/python3.6/dist-packages/ipykernel_launcher.py:11: UserWarning: Update your `Conv2D` call to the Keras 2 API: `Conv2D(512, (3, 3), activation=\"relu\")`\n",
            "  # This is added back by InteractiveShellApp.init_path()\n",
            "/usr/local/lib/python3.6/dist-packages/ipykernel_launcher.py:12: UserWarning: Update your `Conv2D` call to the Keras 2 API: `Conv2D(1024, (3, 3), activation=\"relu\")`\n",
            "  if sys.path[0] == '':\n",
            "/usr/local/lib/python3.6/dist-packages/ipykernel_launcher.py:13: UserWarning: Update your `Conv2D` call to the Keras 2 API: `Conv2D(2048, (3, 3), activation=\"relu\")`\n",
            "  del sys.path[0]\n",
            "/usr/local/lib/python3.6/dist-packages/ipykernel_launcher.py:14: UserWarning: Update your `Conv2D` call to the Keras 2 API: `Conv2D(10, (3, 3), activation=\"relu\")`\n",
            "  \n"
          ],
          "name": "stderr"
        },
        {
          "output_type": "stream",
          "text": [
            "_________________________________________________________________\n",
            "Layer (type)                 Output Shape              Param #   \n",
            "=================================================================\n",
            "conv2d_1 (Conv2D)            (None, 26, 26, 32)        320       \n",
            "_________________________________________________________________\n",
            "conv2d_2 (Conv2D)            (None, 24, 24, 64)        18496     \n",
            "_________________________________________________________________\n",
            "conv2d_3 (Conv2D)            (None, 22, 22, 128)       73856     \n",
            "_________________________________________________________________\n",
            "max_pooling2d_1 (MaxPooling2 (None, 11, 11, 128)       0         \n",
            "_________________________________________________________________\n",
            "conv2d_4 (Conv2D)            (None, 9, 9, 256)         295168    \n",
            "_________________________________________________________________\n",
            "conv2d_5 (Conv2D)            (None, 7, 7, 512)         1180160   \n",
            "_________________________________________________________________\n",
            "conv2d_6 (Conv2D)            (None, 5, 5, 1024)        4719616   \n",
            "_________________________________________________________________\n",
            "conv2d_7 (Conv2D)            (None, 3, 3, 2048)        18876416  \n",
            "_________________________________________________________________\n",
            "conv2d_8 (Conv2D)            (None, 1, 1, 10)          184330    \n",
            "_________________________________________________________________\n",
            "flatten_1 (Flatten)          (None, 10)                0         \n",
            "_________________________________________________________________\n",
            "activation_1 (Activation)    (None, 10)                0         \n",
            "=================================================================\n",
            "Total params: 25,348,362\n",
            "Trainable params: 25,348,362\n",
            "Non-trainable params: 0\n",
            "_________________________________________________________________\n"
          ],
          "name": "stdout"
        }
      ]
    },
    {
      "cell_type": "code",
      "metadata": {
        "id": "Yeota0tLq2jr",
        "colab_type": "code",
        "colab": {}
      },
      "source": [
        "model.compile(loss='categorical_crossentropy',\n",
        "             optimizer='adam',\n",
        "             metrics=['accuracy'])"
      ],
      "execution_count": 0,
      "outputs": []
    },
    {
      "cell_type": "code",
      "metadata": {
        "id": "jRz51uuRq5yp",
        "colab_type": "code",
        "colab": {
          "base_uri": "https://localhost:8080/",
          "height": 499
        },
        "outputId": "cb6854c6-79f7-43a8-b2bc-5d288fe2abe1"
      },
      "source": [
        "# 60k images training images will be trained in batches of 32 images at a time. \n",
        "# One epoch consists of (60k/32 = 1875) forward propagations followed by one backward propagation\n",
        "# Network will be trained for 10 epoches and after the training, model will have the weights.\n",
        "\n",
        "model.fit(X_train, Y_train, batch_size=32, nb_epoch=10, verbose=1)"
      ],
      "execution_count": 16,
      "outputs": [
        {
          "output_type": "stream",
          "text": [
            "WARNING:tensorflow:From /usr/local/lib/python3.6/dist-packages/tensorflow/python/ops/math_ops.py:3066: to_int32 (from tensorflow.python.ops.math_ops) is deprecated and will be removed in a future version.\n",
            "Instructions for updating:\n",
            "Use tf.cast instead.\n"
          ],
          "name": "stdout"
        },
        {
          "output_type": "stream",
          "text": [
            "/usr/local/lib/python3.6/dist-packages/ipykernel_launcher.py:2: UserWarning: The `nb_epoch` argument in `fit` has been renamed `epochs`.\n",
            "  \n"
          ],
          "name": "stderr"
        },
        {
          "output_type": "stream",
          "text": [
            "Epoch 1/10\n",
            "60000/60000 [==============================] - 117s 2ms/step - loss: 2.0454 - acc: 0.2184\n",
            "Epoch 2/10\n",
            "60000/60000 [==============================] - 113s 2ms/step - loss: 2.3026 - acc: 0.0987\n",
            "Epoch 3/10\n",
            "60000/60000 [==============================] - 114s 2ms/step - loss: 2.3026 - acc: 0.0987\n",
            "Epoch 4/10\n",
            "60000/60000 [==============================] - 115s 2ms/step - loss: 2.3026 - acc: 0.0987\n",
            "Epoch 5/10\n",
            "60000/60000 [==============================] - 115s 2ms/step - loss: 2.3026 - acc: 0.0987\n",
            "Epoch 6/10\n",
            "60000/60000 [==============================] - 115s 2ms/step - loss: 2.3026 - acc: 0.0987\n",
            "Epoch 7/10\n",
            "60000/60000 [==============================] - 115s 2ms/step - loss: 2.3026 - acc: 0.0987\n",
            "Epoch 8/10\n",
            "60000/60000 [==============================] - 115s 2ms/step - loss: 2.3026 - acc: 0.0987\n",
            "Epoch 9/10\n",
            "60000/60000 [==============================] - 115s 2ms/step - loss: 2.3026 - acc: 0.0987\n",
            "Epoch 10/10\n",
            "60000/60000 [==============================] - 115s 2ms/step - loss: 2.3026 - acc: 0.0987\n"
          ],
          "name": "stdout"
        },
        {
          "output_type": "execute_result",
          "data": {
            "text/plain": [
              "<keras.callbacks.History at 0x7fab345a3438>"
            ]
          },
          "metadata": {
            "tags": []
          },
          "execution_count": 16
        }
      ]
    },
    {
      "cell_type": "code",
      "metadata": {
        "id": "xlYcUzLmq9yc",
        "colab_type": "code",
        "colab": {}
      },
      "source": [
        "# For each of 10k images in the testset, predict the labels and check how many of them are matching with Y_test. Based this arrive at a score.\n",
        "score = model.evaluate(X_test, Y_test, verbose=0)"
      ],
      "execution_count": 0,
      "outputs": []
    },
    {
      "cell_type": "code",
      "metadata": {
        "id": "mI2QG_xUrGCB",
        "colab_type": "code",
        "colab": {
          "base_uri": "https://localhost:8080/",
          "height": 35
        },
        "outputId": "cf4d6358-c196-4c0e-8520-fc2d5e4295cb"
      },
      "source": [
        "#Print the score\n",
        "print(score)"
      ],
      "execution_count": 19,
      "outputs": [
        {
          "output_type": "stream",
          "text": [
            "[2.3025851249694824, 0.098]\n"
          ],
          "name": "stdout"
        }
      ]
    },
    {
      "cell_type": "code",
      "metadata": {
        "id": "bdw01citrHP8",
        "colab_type": "code",
        "colab": {}
      },
      "source": [
        "# For each of 10k images in the testset, predict the labels\n",
        "\n",
        "y_pred = model.predict(X_test)"
      ],
      "execution_count": 0,
      "outputs": []
    },
    {
      "cell_type": "code",
      "metadata": {
        "id": "0v1skz3ZrKI5",
        "colab_type": "code",
        "colab": {
          "base_uri": "https://localhost:8080/",
          "height": 195
        },
        "outputId": "ea4f72de-5ae3-4389-fdfa-bd3f5d3d47b5"
      },
      "source": [
        "# For first 9 images in the testset, print the predicted labels and the actual labels from the y_test\n",
        "\n",
        "print(y_pred[:9])\n",
        "print(y_test[:9])"
      ],
      "execution_count": 21,
      "outputs": [
        {
          "output_type": "stream",
          "text": [
            "[[0.1 0.1 0.1 0.1 0.1 0.1 0.1 0.1 0.1 0.1]\n",
            " [0.1 0.1 0.1 0.1 0.1 0.1 0.1 0.1 0.1 0.1]\n",
            " [0.1 0.1 0.1 0.1 0.1 0.1 0.1 0.1 0.1 0.1]\n",
            " [0.1 0.1 0.1 0.1 0.1 0.1 0.1 0.1 0.1 0.1]\n",
            " [0.1 0.1 0.1 0.1 0.1 0.1 0.1 0.1 0.1 0.1]\n",
            " [0.1 0.1 0.1 0.1 0.1 0.1 0.1 0.1 0.1 0.1]\n",
            " [0.1 0.1 0.1 0.1 0.1 0.1 0.1 0.1 0.1 0.1]\n",
            " [0.1 0.1 0.1 0.1 0.1 0.1 0.1 0.1 0.1 0.1]\n",
            " [0.1 0.1 0.1 0.1 0.1 0.1 0.1 0.1 0.1 0.1]]\n",
            "[7 2 1 0 4 1 4 9 5]\n"
          ],
          "name": "stdout"
        }
      ]
    },
    {
      "cell_type": "code",
      "metadata": {
        "id": "5zeTM6pn-Q_c",
        "colab_type": "code",
        "colab": {}
      },
      "source": [
        "# Improvements to the network\n",
        "\n",
        "# There should be 1x1 before Max pooling to select the kernals\n",
        "\n",
        "# model.add(MaxPooling2D(pool_size=(2, 2)))  should be changed to model.add(MaxPooling2D(2, 2))\n",
        "\n",
        "# 1x1 convolution should be used to reduce the number of kernals to 10\n",
        "\n",
        "# Last 3x3 convolution should NOT have activation ReLu. \n",
        "#Otherwise softmax will not be able to normalize the probability values to 10 distingushed values in 0 to 1 range.\n",
        "\n",
        "\n",
        "# Model should be changed to the following:\n",
        "\n",
        "\n",
        "model = Sequential() \n",
        "model.add(Convolution2D(32, 3, 3, activation='relu', input_shape=(28,28,1)))# Receptive Field is 3, Channel Dimention : (3x3X1)x(32), output image dimention 26X26\n",
        "model.add(Convolution2D(64, 3, 3, activation='relu'))                       # Receptive Field is 5, Channel Dimention : (3x3X32)x(64), output image dimention 24X24\n",
        "model.add(Convolution2D(128, 3, 3, activation='relu'))                      # Receptive Field is 7, Channel Dimention : (3x3X64)x(128), output image dimention 22X22\n",
        "model.add(Convolution2D(32, 1,activation='relu'))\n",
        "model.add(MaxPooling2D(2, 2))                                    \n",
        "\n",
        "model.add(Convolution2D(32, 3, 3, activation='relu'))                       # Receptive Field is 9, Channel Dimention : (3x3X128)x(256), output image dimention 9X9\n",
        "model.add(Convolution2D(64, 3, 3, activation='relu'))                       # Receptive Field is 11, Channel Dimention : (3x3X256)x(512), output image dimention 7X7\n",
        "model.add(Convolution2D(128, 3, 3, activation='relu'))                      # Receptive Field is 13, Channel Dimention : (3x3X512)x(1024), output image dimention 5X5\n",
        "model.add(Convolution2D(256, 3, 3, activation='relu'))                      # Receptive Field is 15, Channel Dimention : (3x3X1024)x(2048), output image dimention 3X3\n",
        "model.add(Convolution2D(10, 1,activation='relu'))\n",
        "\n",
        "model.add(Convolution2D(10, 3, 3))                                          # Receptive Field is 17, Channel Dimention : (3x3X2048)x(10), output image dimention 1X1\n",
        "\n",
        "\n",
        "model.add(Flatten())                                                        # Receptive Field is 17, Channel Dimention : (3x3)x(10), output image dimention 1X1\n",
        "model.add(Activation('softmax'))                                            # Receptive Field is 17, Channel Dimention : (3x3)x(10), output image dimention 1X1\n",
        "\n",
        "model.summary()"
      ],
      "execution_count": 0,
      "outputs": []
    }
  ]
}